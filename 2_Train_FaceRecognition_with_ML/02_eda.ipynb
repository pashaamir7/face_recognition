{
 "cells": [
  {
   "cell_type": "code",
   "execution_count": 3,
   "id": "6eb46a66",
   "metadata": {},
   "outputs": [],
   "source": [
    "import numpy as np\n",
    "import pandas as pd\n",
    "\n",
    "#visualization\n",
    "import matplotlib.pyplot as plt\n",
    "import seaborn as sns\n",
    "\n",
    "# computer vision library\n",
    "import cv2\n",
    "\n",
    "#glob\n",
    "\n",
    "from glob import glob"
   ]
  },
  {
   "cell_type": "code",
   "execution_count": 4,
   "id": "87d8120e",
   "metadata": {},
   "outputs": [],
   "source": [
    "#extract path of female and male from crop_data folder\n",
    "fpath=glob(r'C:\\Users\\dell\\Desktop\\Minor_project_facerec\\face\\2_Train_FaceRecognition_with_ML\\crop_data\\female\\*.jpg')\n",
    "mpath=glob(r'C:\\Users\\dell\\Desktop\\Minor_project_facerec\\face\\2_Train_FaceRecognition_with_ML\\crop_data\\male\\*.jpg')"
   ]
  },
  {
   "cell_type": "code",
   "execution_count": 5,
   "id": "d74ed21f",
   "metadata": {},
   "outputs": [
    {
     "name": "stdout",
     "output_type": "stream",
     "text": [
      "The number of images in female path = 2586\n",
      "The number of images in male path = 2175\n"
     ]
    }
   ],
   "source": [
    "print(\"The number of images in female path =\",len(fpath))\n",
    "print(\"The number of images in male path =\",len(mpath))"
   ]
  },
  {
   "cell_type": "code",
   "execution_count": 13,
   "id": "52c353b0",
   "metadata": {},
   "outputs": [
    {
     "data": {
      "text/html": [
       "<div>\n",
       "<style scoped>\n",
       "    .dataframe tbody tr th:only-of-type {\n",
       "        vertical-align: middle;\n",
       "    }\n",
       "\n",
       "    .dataframe tbody tr th {\n",
       "        vertical-align: top;\n",
       "    }\n",
       "\n",
       "    .dataframe thead th {\n",
       "        text-align: right;\n",
       "    }\n",
       "</style>\n",
       "<table border=\"1\" class=\"dataframe\">\n",
       "  <thead>\n",
       "    <tr style=\"text-align: right;\">\n",
       "      <th></th>\n",
       "      <th>filepath</th>\n",
       "      <th>gender</th>\n",
       "    </tr>\n",
       "  </thead>\n",
       "  <tbody>\n",
       "    <tr>\n",
       "      <th>0</th>\n",
       "      <td>C:\\Users\\dell\\Desktop\\Minor_project_facerec\\fa...</td>\n",
       "      <td>female</td>\n",
       "    </tr>\n",
       "    <tr>\n",
       "      <th>1</th>\n",
       "      <td>C:\\Users\\dell\\Desktop\\Minor_project_facerec\\fa...</td>\n",
       "      <td>female</td>\n",
       "    </tr>\n",
       "    <tr>\n",
       "      <th>2</th>\n",
       "      <td>C:\\Users\\dell\\Desktop\\Minor_project_facerec\\fa...</td>\n",
       "      <td>female</td>\n",
       "    </tr>\n",
       "    <tr>\n",
       "      <th>3</th>\n",
       "      <td>C:\\Users\\dell\\Desktop\\Minor_project_facerec\\fa...</td>\n",
       "      <td>female</td>\n",
       "    </tr>\n",
       "    <tr>\n",
       "      <th>4</th>\n",
       "      <td>C:\\Users\\dell\\Desktop\\Minor_project_facerec\\fa...</td>\n",
       "      <td>female</td>\n",
       "    </tr>\n",
       "  </tbody>\n",
       "</table>\n",
       "</div>"
      ],
      "text/plain": [
       "                                            filepath  gender\n",
       "0  C:\\Users\\dell\\Desktop\\Minor_project_facerec\\fa...  female\n",
       "1  C:\\Users\\dell\\Desktop\\Minor_project_facerec\\fa...  female\n",
       "2  C:\\Users\\dell\\Desktop\\Minor_project_facerec\\fa...  female\n",
       "3  C:\\Users\\dell\\Desktop\\Minor_project_facerec\\fa...  female\n",
       "4  C:\\Users\\dell\\Desktop\\Minor_project_facerec\\fa...  female"
      ]
     },
     "execution_count": 13,
     "metadata": {},
     "output_type": "execute_result"
    }
   ],
   "source": [
    "df_female=pd.DataFrame(fpath,columns=['filepath'])\n",
    "df_female['gender']='female'\n",
    "\n",
    "df_male=pd.DataFrame(mpath,columns=['filepath'])\n",
    "df_male['gender']='male'\n",
    "\n",
    "df=pd.concat((df_female,df_male),axis=0)\n",
    "df.head()"
   ]
  },
  {
   "cell_type": "code",
   "execution_count": 14,
   "id": "121dfad1",
   "metadata": {},
   "outputs": [
    {
     "data": {
      "text/html": [
       "<div>\n",
       "<style scoped>\n",
       "    .dataframe tbody tr th:only-of-type {\n",
       "        vertical-align: middle;\n",
       "    }\n",
       "\n",
       "    .dataframe tbody tr th {\n",
       "        vertical-align: top;\n",
       "    }\n",
       "\n",
       "    .dataframe thead th {\n",
       "        text-align: right;\n",
       "    }\n",
       "</style>\n",
       "<table border=\"1\" class=\"dataframe\">\n",
       "  <thead>\n",
       "    <tr style=\"text-align: right;\">\n",
       "      <th></th>\n",
       "      <th>filepath</th>\n",
       "      <th>gender</th>\n",
       "    </tr>\n",
       "  </thead>\n",
       "  <tbody>\n",
       "    <tr>\n",
       "      <th>2170</th>\n",
       "      <td>C:\\Users\\dell\\Desktop\\Minor_project_facerec\\fa...</td>\n",
       "      <td>male</td>\n",
       "    </tr>\n",
       "    <tr>\n",
       "      <th>2171</th>\n",
       "      <td>C:\\Users\\dell\\Desktop\\Minor_project_facerec\\fa...</td>\n",
       "      <td>male</td>\n",
       "    </tr>\n",
       "    <tr>\n",
       "      <th>2172</th>\n",
       "      <td>C:\\Users\\dell\\Desktop\\Minor_project_facerec\\fa...</td>\n",
       "      <td>male</td>\n",
       "    </tr>\n",
       "    <tr>\n",
       "      <th>2173</th>\n",
       "      <td>C:\\Users\\dell\\Desktop\\Minor_project_facerec\\fa...</td>\n",
       "      <td>male</td>\n",
       "    </tr>\n",
       "    <tr>\n",
       "      <th>2174</th>\n",
       "      <td>C:\\Users\\dell\\Desktop\\Minor_project_facerec\\fa...</td>\n",
       "      <td>male</td>\n",
       "    </tr>\n",
       "  </tbody>\n",
       "</table>\n",
       "</div>"
      ],
      "text/plain": [
       "                                               filepath gender\n",
       "2170  C:\\Users\\dell\\Desktop\\Minor_project_facerec\\fa...   male\n",
       "2171  C:\\Users\\dell\\Desktop\\Minor_project_facerec\\fa...   male\n",
       "2172  C:\\Users\\dell\\Desktop\\Minor_project_facerec\\fa...   male\n",
       "2173  C:\\Users\\dell\\Desktop\\Minor_project_facerec\\fa...   male\n",
       "2174  C:\\Users\\dell\\Desktop\\Minor_project_facerec\\fa...   male"
      ]
     },
     "execution_count": 14,
     "metadata": {},
     "output_type": "execute_result"
    }
   ],
   "source": [
    "df.tail()"
   ]
  },
  {
   "cell_type": "code",
   "execution_count": 15,
   "id": "8b278dc0",
   "metadata": {},
   "outputs": [
    {
     "data": {
      "text/plain": [
       "(4761, 2)"
      ]
     },
     "execution_count": 15,
     "metadata": {},
     "output_type": "execute_result"
    }
   ],
   "source": [
    "df.shape"
   ]
  },
  {
   "cell_type": "code",
   "execution_count": 30,
   "id": "40036310",
   "metadata": {},
   "outputs": [],
   "source": [
    "# it wil take each image path\n",
    "# then return width of the image\n",
    "def get_size(path):\n",
    "    img=cv2.imread(path)\n",
    "    return img.shape[0]\n"
   ]
  },
  {
   "cell_type": "code",
   "execution_count": 31,
   "id": "555ab0f4",
   "metadata": {},
   "outputs": [],
   "source": [
    "df['dimension']=df['filepath'].apply(get_size) #store dimension of image in the columns"
   ]
  },
  {
   "cell_type": "code",
   "execution_count": 32,
   "id": "726f6b68",
   "metadata": {},
   "outputs": [
    {
     "data": {
      "text/html": [
       "<div>\n",
       "<style scoped>\n",
       "    .dataframe tbody tr th:only-of-type {\n",
       "        vertical-align: middle;\n",
       "    }\n",
       "\n",
       "    .dataframe tbody tr th {\n",
       "        vertical-align: top;\n",
       "    }\n",
       "\n",
       "    .dataframe thead th {\n",
       "        text-align: right;\n",
       "    }\n",
       "</style>\n",
       "<table border=\"1\" class=\"dataframe\">\n",
       "  <thead>\n",
       "    <tr style=\"text-align: right;\">\n",
       "      <th></th>\n",
       "      <th>filepath</th>\n",
       "      <th>gender</th>\n",
       "      <th>dimension</th>\n",
       "    </tr>\n",
       "  </thead>\n",
       "  <tbody>\n",
       "    <tr>\n",
       "      <th>0</th>\n",
       "      <td>C:\\Users\\dell\\Desktop\\Minor_project_facerec\\fa...</td>\n",
       "      <td>female</td>\n",
       "      <td>273</td>\n",
       "    </tr>\n",
       "    <tr>\n",
       "      <th>1</th>\n",
       "      <td>C:\\Users\\dell\\Desktop\\Minor_project_facerec\\fa...</td>\n",
       "      <td>female</td>\n",
       "      <td>273</td>\n",
       "    </tr>\n",
       "    <tr>\n",
       "      <th>2</th>\n",
       "      <td>C:\\Users\\dell\\Desktop\\Minor_project_facerec\\fa...</td>\n",
       "      <td>female</td>\n",
       "      <td>122</td>\n",
       "    </tr>\n",
       "    <tr>\n",
       "      <th>3</th>\n",
       "      <td>C:\\Users\\dell\\Desktop\\Minor_project_facerec\\fa...</td>\n",
       "      <td>female</td>\n",
       "      <td>122</td>\n",
       "    </tr>\n",
       "    <tr>\n",
       "      <th>4</th>\n",
       "      <td>C:\\Users\\dell\\Desktop\\Minor_project_facerec\\fa...</td>\n",
       "      <td>female</td>\n",
       "      <td>182</td>\n",
       "    </tr>\n",
       "  </tbody>\n",
       "</table>\n",
       "</div>"
      ],
      "text/plain": [
       "                                            filepath  gender  dimension\n",
       "0  C:\\Users\\dell\\Desktop\\Minor_project_facerec\\fa...  female        273\n",
       "1  C:\\Users\\dell\\Desktop\\Minor_project_facerec\\fa...  female        273\n",
       "2  C:\\Users\\dell\\Desktop\\Minor_project_facerec\\fa...  female        122\n",
       "3  C:\\Users\\dell\\Desktop\\Minor_project_facerec\\fa...  female        122\n",
       "4  C:\\Users\\dell\\Desktop\\Minor_project_facerec\\fa...  female        182"
      ]
     },
     "execution_count": 32,
     "metadata": {},
     "output_type": "execute_result"
    }
   ],
   "source": [
    "df.head()"
   ]
  },
  {
   "cell_type": "code",
   "execution_count": 33,
   "id": "8b377b09",
   "metadata": {},
   "outputs": [
    {
     "data": {
      "text/plain": [
       "gender\n",
       "female    2586\n",
       "male      2175\n",
       "Name: count, dtype: int64"
      ]
     },
     "execution_count": 33,
     "metadata": {},
     "output_type": "execute_result"
    }
   ],
   "source": [
    "dist_gender=df['gender'].value_counts()\n",
    "dist_gender\n"
   ]
  },
  {
   "cell_type": "code",
   "execution_count": 34,
   "id": "233973e3",
   "metadata": {},
   "outputs": [
    {
     "data": {
      "text/plain": [
       "<Axes: ylabel='count'>"
      ]
     },
     "execution_count": 34,
     "metadata": {},
     "output_type": "execute_result"
    },
    {
     "data": {
      "image/png": "[encoded data removed]",
      "text/plain": [
       "<Figure size 640x480 with 2 Axes>"
      ]
     },
     "metadata": {},
     "output_type": "display_data"
    }
   ],
   "source": [
    "fig,ax=plt.subplots(1,2)\n",
    "dist_gender.plot(kind='bar',ax=ax[0])\n",
    "dist_gender.plot(kind='pie',ax=ax[1],autopct='%0.0f%%')"
   ]
  },
  {
   "cell_type": "code",
   "execution_count": 39,
   "id": "cd42170f",
   "metadata": {},
   "outputs": [
    {
     "data": {
      "text/plain": [
       "<Axes: xlabel='dimension', ylabel='Count'>"
      ]
     },
     "execution_count": 39,
     "metadata": {},
     "output_type": "execute_result"
    },
    {
     "data": {
      "image/png": "[encoded data removed]",
      "text/plain": [
       "<Figure size 640x480 with 1 Axes>"
      ]
     },
     "metadata": {},
     "output_type": "display_data"
    }
   ],
   "source": [
    "dist_size=df['dimension'].value_counts()\n",
    "dist_size\n",
    "sns.histplot(df['dimension'])"
   ]
  },
  {
   "cell_type": "code",
   "execution_count": 40,
   "id": "11f06045",
   "metadata": {},
   "outputs": [
    {
     "data": {
      "text/plain": [
       "<Axes: ylabel='count'>"
      ]
     },
     "execution_count": 40,
     "metadata": {},
     "output_type": "execute_result"
    },
    {
     "data": {
      "image/png": "[encoded data removed]",
      "text/plain": [
       "<Figure size 640x480 with 2 Axes>"
      ]
     },
     "metadata": {},
     "output_type": "display_data"
    }
   ],
   "source": [
    "fig,ax=plt.subplots(1,2)\n",
    "dist_size.plot(kind='bar',ax=ax[0])\n",
    "dist_size.plot(kind='pie',ax=ax[1],autopct='%0.0f%%')"
   ]
  },
  {
   "cell_type": "code",
   "execution_count": 48,
   "id": "f73e38a8",
   "metadata": {},
   "outputs": [
    {
     "name": "stderr",
     "output_type": "stream",
     "text": [
      "C:\\Users\\dell\\AppData\\Local\\Temp\\ipykernel_15348\\510504429.py:1: FutureWarning: \n",
      "\n",
      "Passing `palette` without assigning `hue` is deprecated and will be removed in v0.14.0. Assign the `x` variable to `hue` and set `legend=False` for the same effect.\n",
      "\n",
      "  sns.catplot(data=df, x='gender', y='dimension',kind='box', palette={'male': 'black', 'female': 'lightpink'})\n"
     ]
    },
    {
     "data": {
      "text/plain": [
       "<seaborn.axisgrid.FacetGrid at 0x1e437b5d1c0>"
      ]
     },
     "execution_count": 48,
     "metadata": {},
     "output_type": "execute_result"
    },
    {
     "data": {
      "image/png": "[encoded data removed]",
      "text/plain": [
       "<Figure size 500x500 with 1 Axes>"
      ]
     },
     "metadata": {},
     "output_type": "display_data"
    }
   ],
   "source": [
    "sns.catplot(data=df, x='gender', y='dimension',kind='box', palette={'male': 'black', 'female': 'lightpink'})"
   ]
  },
  {
   "cell_type": "markdown",
   "id": "e408e505",
   "metadata": {},
   "source": [
    "### Consider the images with more than60** and resize the image to 100*100"
   ]
  },
  {
   "cell_type": "code",
   "execution_count": 49,
   "id": "6a982051",
   "metadata": {},
   "outputs": [
    {
     "data": {
      "text/plain": [
       "(4317, 3)"
      ]
     },
     "execution_count": 49,
     "metadata": {},
     "output_type": "execute_result"
    }
   ],
   "source": [
    "df_filter=df.query('dimension>60')\n",
    "df_filter.shape"
   ]
  },
  {
   "cell_type": "code",
   "execution_count": 52,
   "id": "6de4f160",
   "metadata": {},
   "outputs": [
    {
     "data": {
      "text/plain": [
       "gender\n",
       "female    0.552699\n",
       "male      0.447301\n",
       "Name: proportion, dtype: float64"
      ]
     },
     "execution_count": 52,
     "metadata": {},
     "output_type": "execute_result"
    }
   ],
   "source": [
    "df_filter['gender'].value_counts(normalize=True)"
   ]
  },
  {
   "cell_type": "markdown",
   "id": "cce9b751",
   "metadata": {},
   "source": [
    "### Structure the images to 100x100"
   ]
  },
  {
   "cell_type": "code",
   "execution_count": 56,
   "id": "0225032a",
   "metadata": {},
   "outputs": [],
   "source": [
    "def structuring(path):\n",
    "    try:\n",
    "        img=cv2.imread(path)\n",
    "        gray_img=cv2.cvtColor(img, cv2.COLOR_BGR2GRAY)\n",
    "        # resize the imgage 100x100\n",
    "        size=gray_img.shape[0]\n",
    "        if size>=100:\n",
    "            gray_resize=cv2.resize(gray_img,(100,100), cv2.INTER_AREA)\n",
    "        else:\n",
    "            gray_resize=cv2.resize(gray_img,(100,100), cv2.INTER_CUBIC)\n",
    "\n",
    "        fatten_image=gray_resize.flatten()\n",
    "        return fatten_image     \n",
    "    except:\n",
    "         return None"
   ]
  },
  {
   "cell_type": "code",
   "execution_count": 58,
   "id": "50e088ad",
   "metadata": {},
   "outputs": [],
   "source": [
    "df_filter.loc[:, 'data']=df_filter['filepath'].apply(structuring)"
   ]
  },
  {
   "cell_type": "code",
   "execution_count": 59,
   "id": "8e892745",
   "metadata": {},
   "outputs": [
    {
     "data": {
      "text/html": [
       "<div>\n",
       "<style scoped>\n",
       "    .dataframe tbody tr th:only-of-type {\n",
       "        vertical-align: middle;\n",
       "    }\n",
       "\n",
       "    .dataframe tbody tr th {\n",
       "        vertical-align: top;\n",
       "    }\n",
       "\n",
       "    .dataframe thead th {\n",
       "        text-align: right;\n",
       "    }\n",
       "</style>\n",
       "<table border=\"1\" class=\"dataframe\">\n",
       "  <thead>\n",
       "    <tr style=\"text-align: right;\">\n",
       "      <th></th>\n",
       "      <th>filepath</th>\n",
       "      <th>gender</th>\n",
       "      <th>dimension</th>\n",
       "      <th>data</th>\n",
       "    </tr>\n",
       "  </thead>\n",
       "  <tbody>\n",
       "    <tr>\n",
       "      <th>0</th>\n",
       "      <td>C:\\Users\\dell\\Desktop\\Minor_project_facerec\\fa...</td>\n",
       "      <td>female</td>\n",
       "      <td>273</td>\n",
       "      <td>[200, 189, 188, 181, 184, 185, 179, 176, 189, ...</td>\n",
       "    </tr>\n",
       "    <tr>\n",
       "      <th>1</th>\n",
       "      <td>C:\\Users\\dell\\Desktop\\Minor_project_facerec\\fa...</td>\n",
       "      <td>female</td>\n",
       "      <td>273</td>\n",
       "      <td>[234, 236, 235, 241, 198, 186, 114, 16, 45, 35...</td>\n",
       "    </tr>\n",
       "    <tr>\n",
       "      <th>2</th>\n",
       "      <td>C:\\Users\\dell\\Desktop\\Minor_project_facerec\\fa...</td>\n",
       "      <td>female</td>\n",
       "      <td>122</td>\n",
       "      <td>[49, 49, 35, 34, 42, 40, 35, 39, 71, 62, 46, 4...</td>\n",
       "    </tr>\n",
       "    <tr>\n",
       "      <th>3</th>\n",
       "      <td>C:\\Users\\dell\\Desktop\\Minor_project_facerec\\fa...</td>\n",
       "      <td>female</td>\n",
       "      <td>122</td>\n",
       "      <td>[137, 128, 114, 96, 96, 95, 93, 114, 150, 163,...</td>\n",
       "    </tr>\n",
       "    <tr>\n",
       "      <th>4</th>\n",
       "      <td>C:\\Users\\dell\\Desktop\\Minor_project_facerec\\fa...</td>\n",
       "      <td>female</td>\n",
       "      <td>182</td>\n",
       "      <td>[234, 236, 231, 231, 231, 185, 142, 111, 52, 4...</td>\n",
       "    </tr>\n",
       "  </tbody>\n",
       "</table>\n",
       "</div>"
      ],
      "text/plain": [
       "                                            filepath  gender  dimension  \\\n",
       "0  C:\\Users\\dell\\Desktop\\Minor_project_facerec\\fa...  female        273   \n",
       "1  C:\\Users\\dell\\Desktop\\Minor_project_facerec\\fa...  female        273   \n",
       "2  C:\\Users\\dell\\Desktop\\Minor_project_facerec\\fa...  female        122   \n",
       "3  C:\\Users\\dell\\Desktop\\Minor_project_facerec\\fa...  female        122   \n",
       "4  C:\\Users\\dell\\Desktop\\Minor_project_facerec\\fa...  female        182   \n",
       "\n",
       "                                                data  \n",
       "0  [200, 189, 188, 181, 184, 185, 179, 176, 189, ...  \n",
       "1  [234, 236, 235, 241, 198, 186, 114, 16, 45, 35...  \n",
       "2  [49, 49, 35, 34, 42, 40, 35, 39, 71, 62, 46, 4...  \n",
       "3  [137, 128, 114, 96, 96, 95, 93, 114, 150, 163,...  \n",
       "4  [234, 236, 231, 231, 231, 185, 142, 111, 52, 4...  "
      ]
     },
     "execution_count": 59,
     "metadata": {},
     "output_type": "execute_result"
    }
   ],
   "source": [
    "df_filter.head()"
   ]
  },
  {
   "cell_type": "code",
   "execution_count": 61,
   "id": "f6c1568f",
   "metadata": {},
   "outputs": [
    {
     "data": {
      "text/html": [
       "<div>\n",
       "<style scoped>\n",
       "    .dataframe tbody tr th:only-of-type {\n",
       "        vertical-align: middle;\n",
       "    }\n",
       "\n",
       "    .dataframe tbody tr th {\n",
       "        vertical-align: top;\n",
       "    }\n",
       "\n",
       "    .dataframe thead th {\n",
       "        text-align: right;\n",
       "    }\n",
       "</style>\n",
       "<table border=\"1\" class=\"dataframe\">\n",
       "  <thead>\n",
       "    <tr style=\"text-align: right;\">\n",
       "      <th></th>\n",
       "      <th>0</th>\n",
       "      <th>1</th>\n",
       "      <th>2</th>\n",
       "      <th>3</th>\n",
       "      <th>4</th>\n",
       "      <th>5</th>\n",
       "      <th>6</th>\n",
       "      <th>7</th>\n",
       "      <th>8</th>\n",
       "      <th>9</th>\n",
       "      <th>...</th>\n",
       "      <th>9990</th>\n",
       "      <th>9991</th>\n",
       "      <th>9992</th>\n",
       "      <th>9993</th>\n",
       "      <th>9994</th>\n",
       "      <th>9995</th>\n",
       "      <th>9996</th>\n",
       "      <th>9997</th>\n",
       "      <th>9998</th>\n",
       "      <th>9999</th>\n",
       "    </tr>\n",
       "  </thead>\n",
       "  <tbody>\n",
       "    <tr>\n",
       "      <th>0</th>\n",
       "      <td>200</td>\n",
       "      <td>189</td>\n",
       "      <td>188</td>\n",
       "      <td>181</td>\n",
       "      <td>184</td>\n",
       "      <td>185</td>\n",
       "      <td>179</td>\n",
       "      <td>176</td>\n",
       "      <td>189</td>\n",
       "      <td>180</td>\n",
       "      <td>...</td>\n",
       "      <td>109</td>\n",
       "      <td>106</td>\n",
       "      <td>108</td>\n",
       "      <td>111</td>\n",
       "      <td>113</td>\n",
       "      <td>115</td>\n",
       "      <td>120</td>\n",
       "      <td>117</td>\n",
       "      <td>118</td>\n",
       "      <td>122</td>\n",
       "    </tr>\n",
       "    <tr>\n",
       "      <th>1</th>\n",
       "      <td>234</td>\n",
       "      <td>236</td>\n",
       "      <td>235</td>\n",
       "      <td>241</td>\n",
       "      <td>198</td>\n",
       "      <td>186</td>\n",
       "      <td>114</td>\n",
       "      <td>16</td>\n",
       "      <td>45</td>\n",
       "      <td>35</td>\n",
       "      <td>...</td>\n",
       "      <td>21</td>\n",
       "      <td>18</td>\n",
       "      <td>18</td>\n",
       "      <td>17</td>\n",
       "      <td>21</td>\n",
       "      <td>29</td>\n",
       "      <td>23</td>\n",
       "      <td>31</td>\n",
       "      <td>40</td>\n",
       "      <td>38</td>\n",
       "    </tr>\n",
       "    <tr>\n",
       "      <th>2</th>\n",
       "      <td>49</td>\n",
       "      <td>49</td>\n",
       "      <td>35</td>\n",
       "      <td>34</td>\n",
       "      <td>42</td>\n",
       "      <td>40</td>\n",
       "      <td>35</td>\n",
       "      <td>39</td>\n",
       "      <td>71</td>\n",
       "      <td>62</td>\n",
       "      <td>...</td>\n",
       "      <td>210</td>\n",
       "      <td>230</td>\n",
       "      <td>231</td>\n",
       "      <td>237</td>\n",
       "      <td>238</td>\n",
       "      <td>230</td>\n",
       "      <td>220</td>\n",
       "      <td>212</td>\n",
       "      <td>210</td>\n",
       "      <td>208</td>\n",
       "    </tr>\n",
       "    <tr>\n",
       "      <th>3</th>\n",
       "      <td>137</td>\n",
       "      <td>128</td>\n",
       "      <td>114</td>\n",
       "      <td>96</td>\n",
       "      <td>96</td>\n",
       "      <td>95</td>\n",
       "      <td>93</td>\n",
       "      <td>114</td>\n",
       "      <td>150</td>\n",
       "      <td>163</td>\n",
       "      <td>...</td>\n",
       "      <td>66</td>\n",
       "      <td>53</td>\n",
       "      <td>68</td>\n",
       "      <td>67</td>\n",
       "      <td>74</td>\n",
       "      <td>92</td>\n",
       "      <td>97</td>\n",
       "      <td>103</td>\n",
       "      <td>102</td>\n",
       "      <td>96</td>\n",
       "    </tr>\n",
       "    <tr>\n",
       "      <th>4</th>\n",
       "      <td>234</td>\n",
       "      <td>236</td>\n",
       "      <td>231</td>\n",
       "      <td>231</td>\n",
       "      <td>231</td>\n",
       "      <td>185</td>\n",
       "      <td>142</td>\n",
       "      <td>111</td>\n",
       "      <td>52</td>\n",
       "      <td>45</td>\n",
       "      <td>...</td>\n",
       "      <td>241</td>\n",
       "      <td>240</td>\n",
       "      <td>236</td>\n",
       "      <td>237</td>\n",
       "      <td>239</td>\n",
       "      <td>237</td>\n",
       "      <td>237</td>\n",
       "      <td>242</td>\n",
       "      <td>241</td>\n",
       "      <td>241</td>\n",
       "    </tr>\n",
       "  </tbody>\n",
       "</table>\n",
       "<p>5 rows × 10000 columns</p>\n",
       "</div>"
      ],
      "text/plain": [
       "   0     1     2     3     4     5     6     7     8     9     ...  9990  \\\n",
       "0   200   189   188   181   184   185   179   176   189   180  ...   109   \n",
       "1   234   236   235   241   198   186   114    16    45    35  ...    21   \n",
       "2    49    49    35    34    42    40    35    39    71    62  ...   210   \n",
       "3   137   128   114    96    96    95    93   114   150   163  ...    66   \n",
       "4   234   236   231   231   231   185   142   111    52    45  ...   241   \n",
       "\n",
       "   9991  9992  9993  9994  9995  9996  9997  9998  9999  \n",
       "0   106   108   111   113   115   120   117   118   122  \n",
       "1    18    18    17    21    29    23    31    40    38  \n",
       "2   230   231   237   238   230   220   212   210   208  \n",
       "3    53    68    67    74    92    97   103   102    96  \n",
       "4   240   236   237   239   237   237   242   241   241  \n",
       "\n",
       "[5 rows x 10000 columns]"
      ]
     },
     "execution_count": 61,
     "metadata": {},
     "output_type": "execute_result"
    }
   ],
   "source": [
    "data=df_filter['data'].apply(pd.Series)\n",
    "data.head()"
   ]
  },
  {
   "cell_type": "code",
   "execution_count": 62,
   "id": "219f7e36",
   "metadata": {},
   "outputs": [],
   "source": [
    "data.columns=[f\"pixel_{i}\" for i in data.columns]"
   ]
  },
  {
   "cell_type": "code",
   "execution_count": 63,
   "id": "9d68e4a2",
   "metadata": {},
   "outputs": [
    {
     "data": {
      "text/html": [
       "<div>\n",
       "<style scoped>\n",
       "    .dataframe tbody tr th:only-of-type {\n",
       "        vertical-align: middle;\n",
       "    }\n",
       "\n",
       "    .dataframe tbody tr th {\n",
       "        vertical-align: top;\n",
       "    }\n",
       "\n",
       "    .dataframe thead th {\n",
       "        text-align: right;\n",
       "    }\n",
       "</style>\n",
       "<table border=\"1\" class=\"dataframe\">\n",
       "  <thead>\n",
       "    <tr style=\"text-align: right;\">\n",
       "      <th></th>\n",
       "      <th>pixel_0</th>\n",
       "      <th>pixel_1</th>\n",
       "      <th>pixel_2</th>\n",
       "      <th>pixel_3</th>\n",
       "      <th>pixel_4</th>\n",
       "      <th>pixel_5</th>\n",
       "      <th>pixel_6</th>\n",
       "      <th>pixel_7</th>\n",
       "      <th>pixel_8</th>\n",
       "      <th>pixel_9</th>\n",
       "      <th>...</th>\n",
       "      <th>pixel_9990</th>\n",
       "      <th>pixel_9991</th>\n",
       "      <th>pixel_9992</th>\n",
       "      <th>pixel_9993</th>\n",
       "      <th>pixel_9994</th>\n",
       "      <th>pixel_9995</th>\n",
       "      <th>pixel_9996</th>\n",
       "      <th>pixel_9997</th>\n",
       "      <th>pixel_9998</th>\n",
       "      <th>pixel_9999</th>\n",
       "    </tr>\n",
       "  </thead>\n",
       "  <tbody>\n",
       "    <tr>\n",
       "      <th>0</th>\n",
       "      <td>200</td>\n",
       "      <td>189</td>\n",
       "      <td>188</td>\n",
       "      <td>181</td>\n",
       "      <td>184</td>\n",
       "      <td>185</td>\n",
       "      <td>179</td>\n",
       "      <td>176</td>\n",
       "      <td>189</td>\n",
       "      <td>180</td>\n",
       "      <td>...</td>\n",
       "      <td>109</td>\n",
       "      <td>106</td>\n",
       "      <td>108</td>\n",
       "      <td>111</td>\n",
       "      <td>113</td>\n",
       "      <td>115</td>\n",
       "      <td>120</td>\n",
       "      <td>117</td>\n",
       "      <td>118</td>\n",
       "      <td>122</td>\n",
       "    </tr>\n",
       "    <tr>\n",
       "      <th>1</th>\n",
       "      <td>234</td>\n",
       "      <td>236</td>\n",
       "      <td>235</td>\n",
       "      <td>241</td>\n",
       "      <td>198</td>\n",
       "      <td>186</td>\n",
       "      <td>114</td>\n",
       "      <td>16</td>\n",
       "      <td>45</td>\n",
       "      <td>35</td>\n",
       "      <td>...</td>\n",
       "      <td>21</td>\n",
       "      <td>18</td>\n",
       "      <td>18</td>\n",
       "      <td>17</td>\n",
       "      <td>21</td>\n",
       "      <td>29</td>\n",
       "      <td>23</td>\n",
       "      <td>31</td>\n",
       "      <td>40</td>\n",
       "      <td>38</td>\n",
       "    </tr>\n",
       "    <tr>\n",
       "      <th>2</th>\n",
       "      <td>49</td>\n",
       "      <td>49</td>\n",
       "      <td>35</td>\n",
       "      <td>34</td>\n",
       "      <td>42</td>\n",
       "      <td>40</td>\n",
       "      <td>35</td>\n",
       "      <td>39</td>\n",
       "      <td>71</td>\n",
       "      <td>62</td>\n",
       "      <td>...</td>\n",
       "      <td>210</td>\n",
       "      <td>230</td>\n",
       "      <td>231</td>\n",
       "      <td>237</td>\n",
       "      <td>238</td>\n",
       "      <td>230</td>\n",
       "      <td>220</td>\n",
       "      <td>212</td>\n",
       "      <td>210</td>\n",
       "      <td>208</td>\n",
       "    </tr>\n",
       "    <tr>\n",
       "      <th>3</th>\n",
       "      <td>137</td>\n",
       "      <td>128</td>\n",
       "      <td>114</td>\n",
       "      <td>96</td>\n",
       "      <td>96</td>\n",
       "      <td>95</td>\n",
       "      <td>93</td>\n",
       "      <td>114</td>\n",
       "      <td>150</td>\n",
       "      <td>163</td>\n",
       "      <td>...</td>\n",
       "      <td>66</td>\n",
       "      <td>53</td>\n",
       "      <td>68</td>\n",
       "      <td>67</td>\n",
       "      <td>74</td>\n",
       "      <td>92</td>\n",
       "      <td>97</td>\n",
       "      <td>103</td>\n",
       "      <td>102</td>\n",
       "      <td>96</td>\n",
       "    </tr>\n",
       "    <tr>\n",
       "      <th>4</th>\n",
       "      <td>234</td>\n",
       "      <td>236</td>\n",
       "      <td>231</td>\n",
       "      <td>231</td>\n",
       "      <td>231</td>\n",
       "      <td>185</td>\n",
       "      <td>142</td>\n",
       "      <td>111</td>\n",
       "      <td>52</td>\n",
       "      <td>45</td>\n",
       "      <td>...</td>\n",
       "      <td>241</td>\n",
       "      <td>240</td>\n",
       "      <td>236</td>\n",
       "      <td>237</td>\n",
       "      <td>239</td>\n",
       "      <td>237</td>\n",
       "      <td>237</td>\n",
       "      <td>242</td>\n",
       "      <td>241</td>\n",
       "      <td>241</td>\n",
       "    </tr>\n",
       "  </tbody>\n",
       "</table>\n",
       "<p>5 rows × 10000 columns</p>\n",
       "</div>"
      ],
      "text/plain": [
       "   pixel_0  pixel_1  pixel_2  pixel_3  pixel_4  pixel_5  pixel_6  pixel_7  \\\n",
       "0      200      189      188      181      184      185      179      176   \n",
       "1      234      236      235      241      198      186      114       16   \n",
       "2       49       49       35       34       42       40       35       39   \n",
       "3      137      128      114       96       96       95       93      114   \n",
       "4      234      236      231      231      231      185      142      111   \n",
       "\n",
       "   pixel_8  pixel_9  ...  pixel_9990  pixel_9991  pixel_9992  pixel_9993  \\\n",
       "0      189      180  ...         109         106         108         111   \n",
       "1       45       35  ...          21          18          18          17   \n",
       "2       71       62  ...         210         230         231         237   \n",
       "3      150      163  ...          66          53          68          67   \n",
       "4       52       45  ...         241         240         236         237   \n",
       "\n",
       "   pixel_9994  pixel_9995  pixel_9996  pixel_9997  pixel_9998  pixel_9999  \n",
       "0         113         115         120         117         118         122  \n",
       "1          21          29          23          31          40          38  \n",
       "2         238         230         220         212         210         208  \n",
       "3          74          92          97         103         102          96  \n",
       "4         239         237         237         242         241         241  \n",
       "\n",
       "[5 rows x 10000 columns]"
      ]
     },
     "execution_count": 63,
     "metadata": {},
     "output_type": "execute_result"
    }
   ],
   "source": [
    "data.head()"
   ]
  },
  {
   "cell_type": "markdown",
   "id": "7d0f6104",
   "metadata": {},
   "source": [
    "### DATA NORMALIZATION"
   ]
  },
  {
   "cell_type": "code",
   "execution_count": 65,
   "id": "f9dbf5cd",
   "metadata": {},
   "outputs": [],
   "source": [
    "data=data/255.0"
   ]
  },
  {
   "cell_type": "code",
   "execution_count": 67,
   "id": "a24ceb68",
   "metadata": {},
   "outputs": [
    {
     "data": {
      "text/html": [
       "<div>\n",
       "<style scoped>\n",
       "    .dataframe tbody tr th:only-of-type {\n",
       "        vertical-align: middle;\n",
       "    }\n",
       "\n",
       "    .dataframe tbody tr th {\n",
       "        vertical-align: top;\n",
       "    }\n",
       "\n",
       "    .dataframe thead th {\n",
       "        text-align: right;\n",
       "    }\n",
       "</style>\n",
       "<table border=\"1\" class=\"dataframe\">\n",
       "  <thead>\n",
       "    <tr style=\"text-align: right;\">\n",
       "      <th></th>\n",
       "      <th>pixel_0</th>\n",
       "      <th>pixel_1</th>\n",
       "      <th>pixel_2</th>\n",
       "      <th>pixel_3</th>\n",
       "      <th>pixel_4</th>\n",
       "      <th>pixel_5</th>\n",
       "      <th>pixel_6</th>\n",
       "      <th>pixel_7</th>\n",
       "      <th>pixel_8</th>\n",
       "      <th>pixel_9</th>\n",
       "      <th>...</th>\n",
       "      <th>pixel_9990</th>\n",
       "      <th>pixel_9991</th>\n",
       "      <th>pixel_9992</th>\n",
       "      <th>pixel_9993</th>\n",
       "      <th>pixel_9994</th>\n",
       "      <th>pixel_9995</th>\n",
       "      <th>pixel_9996</th>\n",
       "      <th>pixel_9997</th>\n",
       "      <th>pixel_9998</th>\n",
       "      <th>pixel_9999</th>\n",
       "    </tr>\n",
       "  </thead>\n",
       "  <tbody>\n",
       "    <tr>\n",
       "      <th>0</th>\n",
       "      <td>0.784314</td>\n",
       "      <td>0.741176</td>\n",
       "      <td>0.737255</td>\n",
       "      <td>0.709804</td>\n",
       "      <td>0.721569</td>\n",
       "      <td>0.725490</td>\n",
       "      <td>0.701961</td>\n",
       "      <td>0.690196</td>\n",
       "      <td>0.741176</td>\n",
       "      <td>0.705882</td>\n",
       "      <td>...</td>\n",
       "      <td>0.427451</td>\n",
       "      <td>0.415686</td>\n",
       "      <td>0.423529</td>\n",
       "      <td>0.435294</td>\n",
       "      <td>0.443137</td>\n",
       "      <td>0.450980</td>\n",
       "      <td>0.470588</td>\n",
       "      <td>0.458824</td>\n",
       "      <td>0.462745</td>\n",
       "      <td>0.478431</td>\n",
       "    </tr>\n",
       "    <tr>\n",
       "      <th>1</th>\n",
       "      <td>0.917647</td>\n",
       "      <td>0.925490</td>\n",
       "      <td>0.921569</td>\n",
       "      <td>0.945098</td>\n",
       "      <td>0.776471</td>\n",
       "      <td>0.729412</td>\n",
       "      <td>0.447059</td>\n",
       "      <td>0.062745</td>\n",
       "      <td>0.176471</td>\n",
       "      <td>0.137255</td>\n",
       "      <td>...</td>\n",
       "      <td>0.082353</td>\n",
       "      <td>0.070588</td>\n",
       "      <td>0.070588</td>\n",
       "      <td>0.066667</td>\n",
       "      <td>0.082353</td>\n",
       "      <td>0.113725</td>\n",
       "      <td>0.090196</td>\n",
       "      <td>0.121569</td>\n",
       "      <td>0.156863</td>\n",
       "      <td>0.149020</td>\n",
       "    </tr>\n",
       "    <tr>\n",
       "      <th>2</th>\n",
       "      <td>0.192157</td>\n",
       "      <td>0.192157</td>\n",
       "      <td>0.137255</td>\n",
       "      <td>0.133333</td>\n",
       "      <td>0.164706</td>\n",
       "      <td>0.156863</td>\n",
       "      <td>0.137255</td>\n",
       "      <td>0.152941</td>\n",
       "      <td>0.278431</td>\n",
       "      <td>0.243137</td>\n",
       "      <td>...</td>\n",
       "      <td>0.823529</td>\n",
       "      <td>0.901961</td>\n",
       "      <td>0.905882</td>\n",
       "      <td>0.929412</td>\n",
       "      <td>0.933333</td>\n",
       "      <td>0.901961</td>\n",
       "      <td>0.862745</td>\n",
       "      <td>0.831373</td>\n",
       "      <td>0.823529</td>\n",
       "      <td>0.815686</td>\n",
       "    </tr>\n",
       "    <tr>\n",
       "      <th>3</th>\n",
       "      <td>0.537255</td>\n",
       "      <td>0.501961</td>\n",
       "      <td>0.447059</td>\n",
       "      <td>0.376471</td>\n",
       "      <td>0.376471</td>\n",
       "      <td>0.372549</td>\n",
       "      <td>0.364706</td>\n",
       "      <td>0.447059</td>\n",
       "      <td>0.588235</td>\n",
       "      <td>0.639216</td>\n",
       "      <td>...</td>\n",
       "      <td>0.258824</td>\n",
       "      <td>0.207843</td>\n",
       "      <td>0.266667</td>\n",
       "      <td>0.262745</td>\n",
       "      <td>0.290196</td>\n",
       "      <td>0.360784</td>\n",
       "      <td>0.380392</td>\n",
       "      <td>0.403922</td>\n",
       "      <td>0.400000</td>\n",
       "      <td>0.376471</td>\n",
       "    </tr>\n",
       "    <tr>\n",
       "      <th>4</th>\n",
       "      <td>0.917647</td>\n",
       "      <td>0.925490</td>\n",
       "      <td>0.905882</td>\n",
       "      <td>0.905882</td>\n",
       "      <td>0.905882</td>\n",
       "      <td>0.725490</td>\n",
       "      <td>0.556863</td>\n",
       "      <td>0.435294</td>\n",
       "      <td>0.203922</td>\n",
       "      <td>0.176471</td>\n",
       "      <td>...</td>\n",
       "      <td>0.945098</td>\n",
       "      <td>0.941176</td>\n",
       "      <td>0.925490</td>\n",
       "      <td>0.929412</td>\n",
       "      <td>0.937255</td>\n",
       "      <td>0.929412</td>\n",
       "      <td>0.929412</td>\n",
       "      <td>0.949020</td>\n",
       "      <td>0.945098</td>\n",
       "      <td>0.945098</td>\n",
       "    </tr>\n",
       "  </tbody>\n",
       "</table>\n",
       "<p>5 rows × 10000 columns</p>\n",
       "</div>"
      ],
      "text/plain": [
       "    pixel_0   pixel_1   pixel_2   pixel_3   pixel_4   pixel_5   pixel_6  \\\n",
       "0  0.784314  0.741176  0.737255  0.709804  0.721569  0.725490  0.701961   \n",
       "1  0.917647  0.925490  0.921569  0.945098  0.776471  0.729412  0.447059   \n",
       "2  0.192157  0.192157  0.137255  0.133333  0.164706  0.156863  0.137255   \n",
       "3  0.537255  0.501961  0.447059  0.376471  0.376471  0.372549  0.364706   \n",
       "4  0.917647  0.925490  0.905882  0.905882  0.905882  0.725490  0.556863   \n",
       "\n",
       "    pixel_7   pixel_8   pixel_9  ...  pixel_9990  pixel_9991  pixel_9992  \\\n",
       "0  0.690196  0.741176  0.705882  ...    0.427451    0.415686    0.423529   \n",
       "1  0.062745  0.176471  0.137255  ...    0.082353    0.070588    0.070588   \n",
       "2  0.152941  0.278431  0.243137  ...    0.823529    0.901961    0.905882   \n",
       "3  0.447059  0.588235  0.639216  ...    0.258824    0.207843    0.266667   \n",
       "4  0.435294  0.203922  0.176471  ...    0.945098    0.941176    0.925490   \n",
       "\n",
       "   pixel_9993  pixel_9994  pixel_9995  pixel_9996  pixel_9997  pixel_9998  \\\n",
       "0    0.435294    0.443137    0.450980    0.470588    0.458824    0.462745   \n",
       "1    0.066667    0.082353    0.113725    0.090196    0.121569    0.156863   \n",
       "2    0.929412    0.933333    0.901961    0.862745    0.831373    0.823529   \n",
       "3    0.262745    0.290196    0.360784    0.380392    0.403922    0.400000   \n",
       "4    0.929412    0.937255    0.929412    0.929412    0.949020    0.945098   \n",
       "\n",
       "   pixel_9999  \n",
       "0    0.478431  \n",
       "1    0.149020  \n",
       "2    0.815686  \n",
       "3    0.376471  \n",
       "4    0.945098  \n",
       "\n",
       "[5 rows x 10000 columns]"
      ]
     },
     "execution_count": 67,
     "metadata": {},
     "output_type": "execute_result"
    }
   ],
   "source": [
    "data.head()"
   ]
  },
  {
   "cell_type": "code",
   "execution_count": 70,
   "id": "3a477fb0",
   "metadata": {},
   "outputs": [
    {
     "data": {
      "text/html": [
       "<div>\n",
       "<style scoped>\n",
       "    .dataframe tbody tr th:only-of-type {\n",
       "        vertical-align: middle;\n",
       "    }\n",
       "\n",
       "    .dataframe tbody tr th {\n",
       "        vertical-align: top;\n",
       "    }\n",
       "\n",
       "    .dataframe thead th {\n",
       "        text-align: right;\n",
       "    }\n",
       "</style>\n",
       "<table border=\"1\" class=\"dataframe\">\n",
       "  <thead>\n",
       "    <tr style=\"text-align: right;\">\n",
       "      <th></th>\n",
       "      <th>pixel_0</th>\n",
       "      <th>pixel_1</th>\n",
       "      <th>pixel_2</th>\n",
       "      <th>pixel_3</th>\n",
       "      <th>pixel_4</th>\n",
       "      <th>pixel_5</th>\n",
       "      <th>pixel_6</th>\n",
       "      <th>pixel_7</th>\n",
       "      <th>pixel_8</th>\n",
       "      <th>pixel_9</th>\n",
       "      <th>...</th>\n",
       "      <th>pixel_9991</th>\n",
       "      <th>pixel_9992</th>\n",
       "      <th>pixel_9993</th>\n",
       "      <th>pixel_9994</th>\n",
       "      <th>pixel_9995</th>\n",
       "      <th>pixel_9996</th>\n",
       "      <th>pixel_9997</th>\n",
       "      <th>pixel_9998</th>\n",
       "      <th>pixel_9999</th>\n",
       "      <th>gender</th>\n",
       "    </tr>\n",
       "  </thead>\n",
       "  <tbody>\n",
       "    <tr>\n",
       "      <th>2168</th>\n",
       "      <td>0.470588</td>\n",
       "      <td>0.372549</td>\n",
       "      <td>0.431373</td>\n",
       "      <td>0.329412</td>\n",
       "      <td>0.396078</td>\n",
       "      <td>0.600000</td>\n",
       "      <td>0.447059</td>\n",
       "      <td>0.568627</td>\n",
       "      <td>0.631373</td>\n",
       "      <td>0.643137</td>\n",
       "      <td>...</td>\n",
       "      <td>0.458824</td>\n",
       "      <td>0.486275</td>\n",
       "      <td>0.494118</td>\n",
       "      <td>0.509804</td>\n",
       "      <td>0.537255</td>\n",
       "      <td>0.537255</td>\n",
       "      <td>0.525490</td>\n",
       "      <td>0.482353</td>\n",
       "      <td>0.439216</td>\n",
       "      <td>male</td>\n",
       "    </tr>\n",
       "    <tr>\n",
       "      <th>2170</th>\n",
       "      <td>0.062745</td>\n",
       "      <td>0.070588</td>\n",
       "      <td>0.066667</td>\n",
       "      <td>0.062745</td>\n",
       "      <td>0.066667</td>\n",
       "      <td>0.062745</td>\n",
       "      <td>0.054902</td>\n",
       "      <td>0.058824</td>\n",
       "      <td>0.062745</td>\n",
       "      <td>0.074510</td>\n",
       "      <td>...</td>\n",
       "      <td>0.898039</td>\n",
       "      <td>0.909804</td>\n",
       "      <td>0.913725</td>\n",
       "      <td>0.917647</td>\n",
       "      <td>0.921569</td>\n",
       "      <td>0.921569</td>\n",
       "      <td>0.917647</td>\n",
       "      <td>0.913725</td>\n",
       "      <td>0.909804</td>\n",
       "      <td>male</td>\n",
       "    </tr>\n",
       "    <tr>\n",
       "      <th>2172</th>\n",
       "      <td>0.694118</td>\n",
       "      <td>0.701961</td>\n",
       "      <td>0.705882</td>\n",
       "      <td>0.709804</td>\n",
       "      <td>0.709804</td>\n",
       "      <td>0.713725</td>\n",
       "      <td>0.717647</td>\n",
       "      <td>0.717647</td>\n",
       "      <td>0.709804</td>\n",
       "      <td>0.705882</td>\n",
       "      <td>...</td>\n",
       "      <td>0.560784</td>\n",
       "      <td>0.552941</td>\n",
       "      <td>0.537255</td>\n",
       "      <td>0.545098</td>\n",
       "      <td>0.564706</td>\n",
       "      <td>0.592157</td>\n",
       "      <td>0.619608</td>\n",
       "      <td>0.650980</td>\n",
       "      <td>0.674510</td>\n",
       "      <td>male</td>\n",
       "    </tr>\n",
       "    <tr>\n",
       "      <th>2173</th>\n",
       "      <td>0.145098</td>\n",
       "      <td>0.145098</td>\n",
       "      <td>0.145098</td>\n",
       "      <td>0.145098</td>\n",
       "      <td>0.149020</td>\n",
       "      <td>0.156863</td>\n",
       "      <td>0.156863</td>\n",
       "      <td>0.152941</td>\n",
       "      <td>0.152941</td>\n",
       "      <td>0.152941</td>\n",
       "      <td>...</td>\n",
       "      <td>0.160784</td>\n",
       "      <td>0.172549</td>\n",
       "      <td>0.188235</td>\n",
       "      <td>0.211765</td>\n",
       "      <td>0.239216</td>\n",
       "      <td>0.262745</td>\n",
       "      <td>0.278431</td>\n",
       "      <td>0.282353</td>\n",
       "      <td>0.278431</td>\n",
       "      <td>male</td>\n",
       "    </tr>\n",
       "    <tr>\n",
       "      <th>2174</th>\n",
       "      <td>0.713725</td>\n",
       "      <td>0.717647</td>\n",
       "      <td>0.721569</td>\n",
       "      <td>0.721569</td>\n",
       "      <td>0.717647</td>\n",
       "      <td>0.725490</td>\n",
       "      <td>0.721569</td>\n",
       "      <td>0.721569</td>\n",
       "      <td>0.725490</td>\n",
       "      <td>0.721569</td>\n",
       "      <td>...</td>\n",
       "      <td>0.643137</td>\n",
       "      <td>0.682353</td>\n",
       "      <td>0.741176</td>\n",
       "      <td>0.745098</td>\n",
       "      <td>0.749020</td>\n",
       "      <td>0.745098</td>\n",
       "      <td>0.745098</td>\n",
       "      <td>0.745098</td>\n",
       "      <td>0.745098</td>\n",
       "      <td>male</td>\n",
       "    </tr>\n",
       "  </tbody>\n",
       "</table>\n",
       "<p>5 rows × 10001 columns</p>\n",
       "</div>"
      ],
      "text/plain": [
       "       pixel_0   pixel_1   pixel_2   pixel_3   pixel_4   pixel_5   pixel_6  \\\n",
       "2168  0.470588  0.372549  0.431373  0.329412  0.396078  0.600000  0.447059   \n",
       "2170  0.062745  0.070588  0.066667  0.062745  0.066667  0.062745  0.054902   \n",
       "2172  0.694118  0.701961  0.705882  0.709804  0.709804  0.713725  0.717647   \n",
       "2173  0.145098  0.145098  0.145098  0.145098  0.149020  0.156863  0.156863   \n",
       "2174  0.713725  0.717647  0.721569  0.721569  0.717647  0.725490  0.721569   \n",
       "\n",
       "       pixel_7   pixel_8   pixel_9  ...  pixel_9991  pixel_9992  pixel_9993  \\\n",
       "2168  0.568627  0.631373  0.643137  ...    0.458824    0.486275    0.494118   \n",
       "2170  0.058824  0.062745  0.074510  ...    0.898039    0.909804    0.913725   \n",
       "2172  0.717647  0.709804  0.705882  ...    0.560784    0.552941    0.537255   \n",
       "2173  0.152941  0.152941  0.152941  ...    0.160784    0.172549    0.188235   \n",
       "2174  0.721569  0.725490  0.721569  ...    0.643137    0.682353    0.741176   \n",
       "\n",
       "      pixel_9994  pixel_9995  pixel_9996  pixel_9997  pixel_9998  pixel_9999  \\\n",
       "2168    0.509804    0.537255    0.537255    0.525490    0.482353    0.439216   \n",
       "2170    0.917647    0.921569    0.921569    0.917647    0.913725    0.909804   \n",
       "2172    0.545098    0.564706    0.592157    0.619608    0.650980    0.674510   \n",
       "2173    0.211765    0.239216    0.262745    0.278431    0.282353    0.278431   \n",
       "2174    0.745098    0.749020    0.745098    0.745098    0.745098    0.745098   \n",
       "\n",
       "      gender  \n",
       "2168    male  \n",
       "2170    male  \n",
       "2172    male  \n",
       "2173    male  \n",
       "2174    male  \n",
       "\n",
       "[5 rows x 10001 columns]"
      ]
     },
     "execution_count": 70,
     "metadata": {},
     "output_type": "execute_result"
    }
   ],
   "source": [
    "data['gender']=df_filter['gender']\n",
    "data.tail()"
   ]
  },
  {
   "cell_type": "code",
   "execution_count": 74,
   "id": "e9346445",
   "metadata": {},
   "outputs": [
    {
     "data": {
      "text/plain": [
       "np.int64(0)"
      ]
     },
     "execution_count": 74,
     "metadata": {},
     "output_type": "execute_result"
    }
   ],
   "source": [
    "data.isnull().sum().sum()"
   ]
  },
  {
   "cell_type": "markdown",
   "id": "3daf3159",
   "metadata": {},
   "source": [
    "### remove the missing value"
   ]
  },
  {
   "cell_type": "code",
   "execution_count": 75,
   "id": "b525f40e",
   "metadata": {},
   "outputs": [],
   "source": [
    "data.dropna(inplace=True)"
   ]
  },
  {
   "cell_type": "code",
   "execution_count": 76,
   "id": "3dc480b7",
   "metadata": {},
   "outputs": [
    {
     "data": {
      "text/plain": [
       "(4317, 10001)"
      ]
     },
     "execution_count": 76,
     "metadata": {},
     "output_type": "execute_result"
    }
   ],
   "source": [
    "data.shape"
   ]
  },
  {
   "cell_type": "markdown",
   "id": "0b380f36",
   "metadata": {},
   "source": [
    "Save the data"
   ]
  },
  {
   "cell_type": "code",
   "execution_count": 80,
   "id": "ffb8c8b2",
   "metadata": {},
   "outputs": [],
   "source": [
    "import pickle\n",
    "pickle.dump(data,open(r'C:\\Users\\dell\\Desktop\\Minor_project_facerec\\face\\2_Train_FaceRecognition_with_ML\\data/data_images_100_100.pickle',mode='wb'))"
   ]
  },
  {
   "cell_type": "code",
   "execution_count": null,
   "id": "c4618abd",
   "metadata": {},
   "outputs": [],
   "source": []
  }
 ],
 "metadata": {
  "kernelspec": {
   "display_name": "face",
   "language": "python",
   "name": "python3"
  },
  "language_info": {
   "codemirror_mode": {
    "name": "ipython",
    "version": 3
   },
   "file_extension": ".py",
   "mimetype": "text/x-python",
   "name": "python",
   "nbconvert_exporter": "python",
   "pygments_lexer": "ipython3",
   "version": "3.12.6"
  }
 },
 "nbformat": 4,
 "nbformat_minor": 5
}
