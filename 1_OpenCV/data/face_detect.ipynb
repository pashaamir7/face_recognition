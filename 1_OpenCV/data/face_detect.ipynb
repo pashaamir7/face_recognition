{
 "cells": [
  {
   "cell_type": "code",
   "execution_count": 10,
   "id": "dc6b8d91",
   "metadata": {},
   "outputs": [],
   "source": [
    "import numpy as np\n",
    "import cv2"
   ]
  },
  {
   "cell_type": "code",
   "execution_count": 11,
   "id": "447a3118",
   "metadata": {},
   "outputs": [],
   "source": [
    "img = cv2.imread(r'C:\\Users\\dell\\Desktop\\Minor_project_facerec\\face\\1_OpenCV\\data\\friends.jpg')\n",
    "cv2.imshow('image',img)\n",
    "cv2.waitKey(0)\n",
    "cv2.destroyAllWindows()"
   ]
  },
  {
   "cell_type": "code",
   "execution_count": 12,
   "id": "fd9a0756",
   "metadata": {},
   "outputs": [],
   "source": [
    "#Load cascade classifier\n",
    "\n",
    "haar=cv2.CascadeClassifier(r'C:\\Users\\dell\\Desktop\\Minor_project_facerec\\face\\1_OpenCV\\data\\haarcascade_frontalface_default.xml')\n"
   ]
  },
  {
   "cell_type": "code",
   "execution_count": 26,
   "id": "a02a8eb7",
   "metadata": {},
   "outputs": [],
   "source": [
    "image = img.copy()\n",
    "#  step 1: convert image too grayscale\n",
    "\n",
    "gray_img=cv2.cvtColor(img, cv2.COLOR_BGR2GRAY)\n",
    "# cv2.imshow('Gray image', gray_img)\n",
    "# cv2.waitKey(0)\n",
    "# cv2.destroyAllWindows()\n",
    "\n",
    "# step2: apply grayscale image to cascade classifier\n",
    "face_rect=haar.detectMultiScale(gray_img,1.3,5)\n",
    "\n",
    "for x,y,w,h in face_rect:\n",
    "  cv2.rectangle(image,(x,y),(x+h,y+w),(0,255,0),2)\n",
    "\n",
    "cv2.imshow('detected faces', image)\n",
    "cv2.waitKey(0)\n",
    "cv2.destroyAllWindows()"
   ]
  },
  {
   "cell_type": "code",
   "execution_count": 14,
   "id": "2086ec58",
   "metadata": {},
   "outputs": [
    {
     "name": "stdout",
     "output_type": "stream",
     "text": [
      "[[216  24  60  60]\n",
      " [ 95  29  61  61]\n",
      " [158  31  61  61]]\n"
     ]
    }
   ],
   "source": [
    "print(face_rect)"
   ]
  },
  {
   "cell_type": "markdown",
   "id": "3545fc73",
   "metadata": {},
   "source": [
    "### Real Time Face Detection OpenCV"
   ]
  },
  {
   "cell_type": "code",
   "execution_count": null,
   "id": "6cd51554",
   "metadata": {},
   "outputs": [],
   "source": [
    "cap=cv2.VideoCapture(r'C:\\Users\\dell\\Desktop\\Minor_project_facerec\\face\\1_OpenCV\\data\\video.mp4')\n",
    "\n",
    "while True:\n",
    "    ret, frame = cap.read()\n",
    "    if ret==False:\n",
    "        break\n",
    "    \n",
    "\n",
    "    \n",
    "    image = frame.copy()\n",
    "    #  step 1: convert image too grayscale\n",
    "\n",
    "    gray_img=cv2.cvtColor(image, cv2.COLOR_BGR2GRAY)\n",
    "    # cv2.imshow('Gray image', gray_img)\n",
    "    # cv2.waitKey(0)\n",
    "    # cv2.destroyAllWindows()\n",
    "\n",
    "    # step2: apply grayscale image to cascade classifier\n",
    "    face_rect=haar.detectMultiScale(gray_img,1.3,5)\n",
    "\n",
    "    for x,y,w,h in face_rect:\n",
    "      cv2.rectangle(image,(x,y),(x+h,y+w),(0,255,0),2)\n",
    "\n",
    "    \n",
    "    cv2.imshow('face detection', image)\n",
    "\n",
    "\n",
    "\n",
    "    if cv2.waitKey(1)==27:\n",
    "        break\n",
    "cap.release()\n",
    "cv2.destroyAllWindows()    "
   ]
  }
 ],
 "metadata": {
  "kernelspec": {
   "display_name": "face",
   "language": "python",
   "name": "python3"
  },
  "language_info": {
   "codemirror_mode": {
    "name": "ipython",
    "version": 3
   },
   "file_extension": ".py",
   "mimetype": "text/x-python",
   "name": "python",
   "nbconvert_exporter": "python",
   "pygments_lexer": "ipython3",
   "version": "3.12.6"
  }
 },
 "nbformat": 4,
 "nbformat_minor": 5
}
