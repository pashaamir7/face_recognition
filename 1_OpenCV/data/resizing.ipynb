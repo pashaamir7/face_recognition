{
 "cells": [
  {
   "cell_type": "code",
   "execution_count": 1,
   "id": "9177a58e",
   "metadata": {},
   "outputs": [],
   "source": [
    "import numpy as np\n",
    "import cv2\n",
    "import matplotlib.image as matimg\n",
    "import matplotlib.pyplot as plt\n",
    "from PIL import Image"
   ]
  },
  {
   "cell_type": "code",
   "execution_count": 2,
   "id": "e12c5c6f",
   "metadata": {},
   "outputs": [
    {
     "name": "stdout",
     "output_type": "stream",
     "text": [
      "(480, 640, 3)\n"
     ]
    }
   ],
   "source": [
    "#Loading the image\n",
    "img = cv2.imread(r'C:\\Users\\dell\\Desktop\\Minor_project_facerec\\face\\1_OpenCV\\data\\flying_bird.jpg')\n",
    "print(img.shape)\n",
    "cv2.imshow('Original image', img)\n",
    "cv2.waitKey()\n",
    "cv2.destroyAllWindows()"
   ]
  },
  {
   "cell_type": "code",
   "execution_count": 6,
   "id": "dc1519da",
   "metadata": {},
   "outputs": [],
   "source": [
    "img_shrink=cv2.resize(img,(320,240), interpolation=cv2.INTER_AREA)\n",
    "\n",
    "img_zoom=cv2.resize(img, (1280,960), interpolation=cv2.INTER_CUBIC)"
   ]
  },
  {
   "cell_type": "code",
   "execution_count": 7,
   "id": "074cff26",
   "metadata": {},
   "outputs": [
    {
     "data": {
      "text/plain": [
       "((240, 320, 3), (960, 1280, 3))"
      ]
     },
     "execution_count": 7,
     "metadata": {},
     "output_type": "execute_result"
    }
   ],
   "source": [
    "img_shrink.shape, img_zoom.shape"
   ]
  },
  {
   "cell_type": "code",
   "execution_count": 8,
   "id": "b9df988d",
   "metadata": {},
   "outputs": [],
   "source": [
    "cv2.imshow('Original image', img)\n",
    "cv2.imshow('shrink image', img_shrink)\n",
    "cv2.imshow('Zoom image', img_zoom)\n",
    "cv2.waitKey(0)\n",
    "cv2.destroyAllWindows()"
   ]
  },
  {
   "cell_type": "code",
   "execution_count": null,
   "id": "ec981dd2",
   "metadata": {},
   "outputs": [],
   "source": []
  }
 ],
 "metadata": {
  "kernelspec": {
   "display_name": "face",
   "language": "python",
   "name": "python3"
  },
  "language_info": {
   "codemirror_mode": {
    "name": "ipython",
    "version": 3
   },
   "file_extension": ".py",
   "mimetype": "text/x-python",
   "name": "python",
   "nbconvert_exporter": "python",
   "pygments_lexer": "ipython3",
   "version": "3.12.6"
  }
 },
 "nbformat": 4,
 "nbformat_minor": 5
}
